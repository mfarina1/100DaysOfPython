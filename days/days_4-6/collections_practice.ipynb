{
 "cells": [
  {
   "cell_type": "code",
   "execution_count": 1,
   "metadata": {},
   "outputs": [],
   "source": [
    "# first we import from the collections module\n",
    "from collections import defaultdict, namedtuple, Counter, deque\n",
    "import random\n",
    "from urllib.request import urlretrieve"
   ]
  },
  {
   "cell_type": "code",
   "execution_count": 28,
   "metadata": {},
   "outputs": [
    {
     "name": "stdout",
     "output_type": "stream",
     "text": [
      "Madeline: brownies\n"
     ]
    }
   ],
   "source": [
    "# then we define a named tuple for potluck food items and give an example\n",
    "FoodItems = namedtuple('FoodItems', ['person', 'food'])\n",
    "food_items = FoodItems('Madeline:', 'brownies')\n",
    "print(food_items.person, food_items.food)"
   ]
  },
  {
   "cell_type": "code",
   "execution_count": 36,
   "metadata": {},
   "outputs": [
    {
     "data": {
      "text/plain": [
       "defaultdict(list,\n",
       "            {'Madeline': ['brownies', 'cookies'],\n",
       "             'Nick': ['mac n cheese', 'watermelon'],\n",
       "             'Alejandro': ['ribs'],\n",
       "             'Michael': ['salad'],\n",
       "             'Vikas': ['fried rice']})"
      ]
     },
     "execution_count": 36,
     "metadata": {},
     "output_type": "execute_result"
    }
   ],
   "source": [
    "# then we create a list of tuples to populate a default(dict) for every person/food at the potluck,\n",
    "# using a default dict to allow for multiple food items (values) for each person (key)\n",
    "person_and_food = [('Madeline', 'brownies'), ('Nick', 'mac n cheese'), ('Alejandro', 'ribs'),\n",
    "                   ('Michael', 'salad'), ('Vikas', 'fried rice'), ('Nick', 'watermelon'), ('Madeline', 'cookies')]\n",
    "\n",
    "potluck_food = defaultdict(list)\n",
    "for name, food in person_and_food:\n",
    "    potluck_food[name].append(food)\n",
    "\n",
    "potluck_food\n"
   ]
  },
  {
   "cell_type": "code",
   "execution_count": 32,
   "metadata": {},
   "outputs": [
    {
     "data": {
      "text/plain": [
       "[('Madeline', 2), ('Nick', 2)]"
      ]
     },
     "execution_count": 32,
     "metadata": {},
     "output_type": "execute_result"
    }
   ],
   "source": [
    "# then we use a counter to check who's bringing the most food items\n",
    "count = Counter()\n",
    "for person, food in potluck_food.items():\n",
    "    count[person] += len(food)\n",
    "\n",
    "count.most_common(2)"
   ]
  },
  {
   "cell_type": "code",
   "execution_count": null,
   "metadata": {},
   "outputs": [],
   "source": []
  }
 ],
 "metadata": {
  "kernelspec": {
   "display_name": "venv",
   "language": "python",
   "name": "python3"
  },
  "language_info": {
   "codemirror_mode": {
    "name": "ipython",
    "version": 3
   },
   "file_extension": ".py",
   "mimetype": "text/x-python",
   "name": "python",
   "nbconvert_exporter": "python",
   "pygments_lexer": "ipython3",
   "version": "3.12.3"
  }
 },
 "nbformat": 4,
 "nbformat_minor": 2
}
